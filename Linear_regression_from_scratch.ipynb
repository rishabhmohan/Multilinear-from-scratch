{
  "nbformat": 4,
  "nbformat_minor": 0,
  "metadata": {
    "colab": {
      "name": "Linear regression from scratch.ipynb",
      "provenance": [],
      "collapsed_sections": []
    },
    "kernelspec": {
      "name": "python3",
      "display_name": "Python 3"
    },
    "language_info": {
      "name": "python"
    }
  },
  "cells": [
    {
      "cell_type": "code",
      "execution_count": 112,
      "metadata": {
        "id": "L4GOdjrFq8KP"
      },
      "outputs": [],
      "source": [
        "import pandas as pd\n",
        "import numpy as np\n",
        "import matplotlib.pyplot as plt\n",
        "from sklearn.metrics import mean_squared_error\n"
      ]
    },
    {
      "cell_type": "code",
      "source": [
        "df= pd.read_csv('winequality-white.csv', sep=';')"
      ],
      "metadata": {
        "id": "xgVWWhBEsGKW"
      },
      "execution_count": 7,
      "outputs": []
    },
    {
      "cell_type": "code",
      "source": [
        "df.head()"
      ],
      "metadata": {
        "colab": {
          "base_uri": "https://localhost:8080/",
          "height": 285
        },
        "id": "n2e9u8VRsZjo",
        "outputId": "a9999176-6fa0-4512-9ff3-6b0109f57c08"
      },
      "execution_count": 49,
      "outputs": [
        {
          "output_type": "execute_result",
          "data": {
            "text/html": [
              "\n",
              "  <div id=\"df-9cf02705-7a48-431c-b15e-8b0d02cc6990\">\n",
              "    <div class=\"colab-df-container\">\n",
              "      <div>\n",
              "<style scoped>\n",
              "    .dataframe tbody tr th:only-of-type {\n",
              "        vertical-align: middle;\n",
              "    }\n",
              "\n",
              "    .dataframe tbody tr th {\n",
              "        vertical-align: top;\n",
              "    }\n",
              "\n",
              "    .dataframe thead th {\n",
              "        text-align: right;\n",
              "    }\n",
              "</style>\n",
              "<table border=\"1\" class=\"dataframe\">\n",
              "  <thead>\n",
              "    <tr style=\"text-align: right;\">\n",
              "      <th></th>\n",
              "      <th>fixed acidity</th>\n",
              "      <th>volatile acidity</th>\n",
              "      <th>citric acid</th>\n",
              "      <th>residual sugar</th>\n",
              "      <th>chlorides</th>\n",
              "      <th>free sulfur dioxide</th>\n",
              "      <th>total sulfur dioxide</th>\n",
              "      <th>density</th>\n",
              "      <th>pH</th>\n",
              "      <th>sulphates</th>\n",
              "      <th>alcohol</th>\n",
              "      <th>quality</th>\n",
              "    </tr>\n",
              "  </thead>\n",
              "  <tbody>\n",
              "    <tr>\n",
              "      <th>0</th>\n",
              "      <td>0.307692</td>\n",
              "      <td>0.186275</td>\n",
              "      <td>0.216867</td>\n",
              "      <td>0.308282</td>\n",
              "      <td>0.106825</td>\n",
              "      <td>0.149826</td>\n",
              "      <td>0.373550</td>\n",
              "      <td>0.267785</td>\n",
              "      <td>0.254545</td>\n",
              "      <td>0.267442</td>\n",
              "      <td>0.129032</td>\n",
              "      <td>0.5</td>\n",
              "    </tr>\n",
              "    <tr>\n",
              "      <th>1</th>\n",
              "      <td>0.240385</td>\n",
              "      <td>0.215686</td>\n",
              "      <td>0.204819</td>\n",
              "      <td>0.015337</td>\n",
              "      <td>0.118694</td>\n",
              "      <td>0.041812</td>\n",
              "      <td>0.285383</td>\n",
              "      <td>0.132832</td>\n",
              "      <td>0.527273</td>\n",
              "      <td>0.313953</td>\n",
              "      <td>0.241935</td>\n",
              "      <td>0.5</td>\n",
              "    </tr>\n",
              "    <tr>\n",
              "      <th>2</th>\n",
              "      <td>0.413462</td>\n",
              "      <td>0.196078</td>\n",
              "      <td>0.240964</td>\n",
              "      <td>0.096626</td>\n",
              "      <td>0.121662</td>\n",
              "      <td>0.097561</td>\n",
              "      <td>0.204176</td>\n",
              "      <td>0.154039</td>\n",
              "      <td>0.490909</td>\n",
              "      <td>0.255814</td>\n",
              "      <td>0.338710</td>\n",
              "      <td>0.5</td>\n",
              "    </tr>\n",
              "    <tr>\n",
              "      <th>3</th>\n",
              "      <td>0.326923</td>\n",
              "      <td>0.147059</td>\n",
              "      <td>0.192771</td>\n",
              "      <td>0.121166</td>\n",
              "      <td>0.145401</td>\n",
              "      <td>0.156794</td>\n",
              "      <td>0.410673</td>\n",
              "      <td>0.163678</td>\n",
              "      <td>0.427273</td>\n",
              "      <td>0.209302</td>\n",
              "      <td>0.306452</td>\n",
              "      <td>0.5</td>\n",
              "    </tr>\n",
              "    <tr>\n",
              "      <th>4</th>\n",
              "      <td>0.326923</td>\n",
              "      <td>0.147059</td>\n",
              "      <td>0.192771</td>\n",
              "      <td>0.121166</td>\n",
              "      <td>0.145401</td>\n",
              "      <td>0.156794</td>\n",
              "      <td>0.410673</td>\n",
              "      <td>0.163678</td>\n",
              "      <td>0.427273</td>\n",
              "      <td>0.209302</td>\n",
              "      <td>0.306452</td>\n",
              "      <td>0.5</td>\n",
              "    </tr>\n",
              "  </tbody>\n",
              "</table>\n",
              "</div>\n",
              "      <button class=\"colab-df-convert\" onclick=\"convertToInteractive('df-9cf02705-7a48-431c-b15e-8b0d02cc6990')\"\n",
              "              title=\"Convert this dataframe to an interactive table.\"\n",
              "              style=\"display:none;\">\n",
              "        \n",
              "  <svg xmlns=\"http://www.w3.org/2000/svg\" height=\"24px\"viewBox=\"0 0 24 24\"\n",
              "       width=\"24px\">\n",
              "    <path d=\"M0 0h24v24H0V0z\" fill=\"none\"/>\n",
              "    <path d=\"M18.56 5.44l.94 2.06.94-2.06 2.06-.94-2.06-.94-.94-2.06-.94 2.06-2.06.94zm-11 1L8.5 8.5l.94-2.06 2.06-.94-2.06-.94L8.5 2.5l-.94 2.06-2.06.94zm10 10l.94 2.06.94-2.06 2.06-.94-2.06-.94-.94-2.06-.94 2.06-2.06.94z\"/><path d=\"M17.41 7.96l-1.37-1.37c-.4-.4-.92-.59-1.43-.59-.52 0-1.04.2-1.43.59L10.3 9.45l-7.72 7.72c-.78.78-.78 2.05 0 2.83L4 21.41c.39.39.9.59 1.41.59.51 0 1.02-.2 1.41-.59l7.78-7.78 2.81-2.81c.8-.78.8-2.07 0-2.86zM5.41 20L4 18.59l7.72-7.72 1.47 1.35L5.41 20z\"/>\n",
              "  </svg>\n",
              "      </button>\n",
              "      \n",
              "  <style>\n",
              "    .colab-df-container {\n",
              "      display:flex;\n",
              "      flex-wrap:wrap;\n",
              "      gap: 12px;\n",
              "    }\n",
              "\n",
              "    .colab-df-convert {\n",
              "      background-color: #E8F0FE;\n",
              "      border: none;\n",
              "      border-radius: 50%;\n",
              "      cursor: pointer;\n",
              "      display: none;\n",
              "      fill: #1967D2;\n",
              "      height: 32px;\n",
              "      padding: 0 0 0 0;\n",
              "      width: 32px;\n",
              "    }\n",
              "\n",
              "    .colab-df-convert:hover {\n",
              "      background-color: #E2EBFA;\n",
              "      box-shadow: 0px 1px 2px rgba(60, 64, 67, 0.3), 0px 1px 3px 1px rgba(60, 64, 67, 0.15);\n",
              "      fill: #174EA6;\n",
              "    }\n",
              "\n",
              "    [theme=dark] .colab-df-convert {\n",
              "      background-color: #3B4455;\n",
              "      fill: #D2E3FC;\n",
              "    }\n",
              "\n",
              "    [theme=dark] .colab-df-convert:hover {\n",
              "      background-color: #434B5C;\n",
              "      box-shadow: 0px 1px 3px 1px rgba(0, 0, 0, 0.15);\n",
              "      filter: drop-shadow(0px 1px 2px rgba(0, 0, 0, 0.3));\n",
              "      fill: #FFFFFF;\n",
              "    }\n",
              "  </style>\n",
              "\n",
              "      <script>\n",
              "        const buttonEl =\n",
              "          document.querySelector('#df-9cf02705-7a48-431c-b15e-8b0d02cc6990 button.colab-df-convert');\n",
              "        buttonEl.style.display =\n",
              "          google.colab.kernel.accessAllowed ? 'block' : 'none';\n",
              "\n",
              "        async function convertToInteractive(key) {\n",
              "          const element = document.querySelector('#df-9cf02705-7a48-431c-b15e-8b0d02cc6990');\n",
              "          const dataTable =\n",
              "            await google.colab.kernel.invokeFunction('convertToInteractive',\n",
              "                                                     [key], {});\n",
              "          if (!dataTable) return;\n",
              "\n",
              "          const docLinkHtml = 'Like what you see? Visit the ' +\n",
              "            '<a target=\"_blank\" href=https://colab.research.google.com/notebooks/data_table.ipynb>data table notebook</a>'\n",
              "            + ' to learn more about interactive tables.';\n",
              "          element.innerHTML = '';\n",
              "          dataTable['output_type'] = 'display_data';\n",
              "          await google.colab.output.renderOutput(dataTable, element);\n",
              "          const docLink = document.createElement('div');\n",
              "          docLink.innerHTML = docLinkHtml;\n",
              "          element.appendChild(docLink);\n",
              "        }\n",
              "      </script>\n",
              "    </div>\n",
              "  </div>\n",
              "  "
            ],
            "text/plain": [
              "   fixed acidity  volatile acidity  citric acid  residual sugar  chlorides  \\\n",
              "0       0.307692          0.186275     0.216867        0.308282   0.106825   \n",
              "1       0.240385          0.215686     0.204819        0.015337   0.118694   \n",
              "2       0.413462          0.196078     0.240964        0.096626   0.121662   \n",
              "3       0.326923          0.147059     0.192771        0.121166   0.145401   \n",
              "4       0.326923          0.147059     0.192771        0.121166   0.145401   \n",
              "\n",
              "   free sulfur dioxide  total sulfur dioxide   density        pH  sulphates  \\\n",
              "0             0.149826              0.373550  0.267785  0.254545   0.267442   \n",
              "1             0.041812              0.285383  0.132832  0.527273   0.313953   \n",
              "2             0.097561              0.204176  0.154039  0.490909   0.255814   \n",
              "3             0.156794              0.410673  0.163678  0.427273   0.209302   \n",
              "4             0.156794              0.410673  0.163678  0.427273   0.209302   \n",
              "\n",
              "    alcohol  quality  \n",
              "0  0.129032      0.5  \n",
              "1  0.241935      0.5  \n",
              "2  0.338710      0.5  \n",
              "3  0.306452      0.5  \n",
              "4  0.306452      0.5  "
            ]
          },
          "metadata": {},
          "execution_count": 49
        }
      ]
    },
    {
      "cell_type": "code",
      "source": [
        "def find_minmax(df):\n",
        "    df_dict={}\n",
        "    for col in df.columns:\n",
        "        col_min= min(df[col])\n",
        "        col_max = max(df[col])\n",
        "        df_dict.update({col: (col_min, col_max)})\n",
        "    return df_dict\n"
      ],
      "metadata": {
        "id": "nPEsteycuZeJ"
      },
      "execution_count": 27,
      "outputs": []
    },
    {
      "cell_type": "code",
      "source": [
        "df_dicts= find_minmax(df)"
      ],
      "metadata": {
        "id": "x6RfcF1aufIg"
      },
      "execution_count": 28,
      "outputs": []
    },
    {
      "cell_type": "code",
      "source": [
        "def normalize(value, df_dicts, col):\n",
        "    a=  value - df_dicts[col][0]\n",
        "    b = df_dicts[col][1] - df_dicts[col][0]\n",
        "    return a/b\n",
        "# from sklearn.preprocessing import StandardScaler\n",
        "# sc=StandardScaler()\n",
        "# X_transform=sc.fit_transform(X)"
      ],
      "metadata": {
        "id": "9jwfK-zRzW1D"
      },
      "execution_count": 35,
      "outputs": []
    },
    {
      "cell_type": "code",
      "source": [
        "for col in df.columns:\n",
        "  df[col]= df[col].apply(lambda x: normalize(x, df_dicts, col))\n"
      ],
      "metadata": {
        "id": "0LQxEmjkxu9m"
      },
      "execution_count": 36,
      "outputs": []
    },
    {
      "cell_type": "code",
      "source": [
        "x=df.iloc[:,0:11]\n",
        "y=df.iloc[:, 11]"
      ],
      "metadata": {
        "id": "tAkffaxqPEAC"
      },
      "execution_count": 64,
      "outputs": []
    },
    {
      "cell_type": "code",
      "source": [
        "x=x.values\n"
      ],
      "metadata": {
        "id": "PKV48maHPr1h"
      },
      "execution_count": 78,
      "outputs": []
    },
    {
      "cell_type": "markdown",
      "source": [
        "#Multi linear regression from scratch"
      ],
      "metadata": {
        "id": "uHRYKJdyaJnZ"
      }
    },
    {
      "cell_type": "code",
      "source": [
        "\n",
        "def loss(y, yhat):\n",
        "    s=0\n",
        "    for i in range(len(y)):\n",
        "      s+=(y[i]-yhat[i])**2\n",
        "      return s/len(y)\n",
        "\n",
        "# code for \"wx+b\"\n",
        "def predict_y(intercept, coeff, x):\n",
        "    y_list = []\n",
        "    # print (len(x))\n",
        "    for i in range(len(x)):\n",
        "      # print (i)\n",
        "      # print (i, intercept, np.dot(coeff, x[i]))\n",
        "      y_list.append(intercept + np.dot(coeff, x[i]))\n",
        "    return np.array(y_list)\n",
        "\n",
        "#derivative of loss w.r.t weight\n",
        "def dldw(x,y,yhat):\n",
        "    s=0\n",
        "    for i in range(len(y)):\n",
        "        s+= -x[i] * (y[i]-y_hat[i])\n",
        "    return (2*s)/len(y)\n",
        "\n",
        "# derivative of loss w.r.t bias\n",
        "def dldb(y,y_hat):\n",
        "    s=0\n",
        "    for i in range(len(y)):\n",
        "        s+=-(y[i]-y_hat[i])\n",
        "    return (2*s)/len(y)\n",
        "\n",
        "\n",
        "# gradient function\n",
        "def gradient_descent(x,y):\n",
        "\n",
        "    weight_vector=np.random.randn(x.shape[1])\n",
        "    intercept=0\n",
        "    learning_rate = 0.001\n",
        "    epoch=1000\n",
        "\n",
        "    linear_loss=[]\n",
        "\n",
        "    for i in range(epoch):\n",
        "      y_hat= predict_y(intercept, weight_vector,x)\n",
        "      weight_vector = weight_vector - learning_rate *dldw(x,y,y_hat)  #update weight\n",
        "      intercept = intercept - learning_rate * dldb(y,y_hat) \n",
        "      linear_loss.append(loss(y,y_hat))\n",
        "        \n",
        "    plt.plot(np.arange(1,epoch),linear_loss[1:])\n",
        "    plt.xlabel(\"number of epoch\")\n",
        "    plt.ylabel(\"loss\")\n",
        "    \n",
        "    return weight_vector,intercept\n",
        "\n",
        "\n",
        "\n",
        "\n",
        "\n"
      ],
      "metadata": {
        "id": "qvRNVFmJ6oJ_"
      },
      "execution_count": 106,
      "outputs": []
    },
    {
      "cell_type": "code",
      "source": [
        "\n",
        "\n",
        "w,b=gradient_descent(x, y)\n"
      ],
      "metadata": {
        "colab": {
          "base_uri": "https://localhost:8080/",
          "height": 279
        },
        "id": "gnbpGpuXP_UA",
        "outputId": "d11e5f0a-440c-4688-b2cd-e98610eccd6d"
      },
      "execution_count": 107,
      "outputs": [
        {
          "output_type": "display_data",
          "data": {
            "image/png": "[encoded data removed]",
            "text/plain": [
              "<Figure size 432x288 with 1 Axes>"
            ]
          },
          "metadata": {
            "needs_background": "light"
          }
        }
      ]
    },
    {
      "cell_type": "code",
      "source": [
        "y_pred=predict_y(b, w, x )\n"
      ],
      "metadata": {
        "id": "Y2cT74JwUA3r"
      },
      "execution_count": 109,
      "outputs": []
    },
    {
      "cell_type": "code",
      "source": [
        "df['y_pred']=y_pred"
      ],
      "metadata": {
        "id": "KEw4iwNEYHda"
      },
      "execution_count": 110,
      "outputs": []
    },
    {
      "cell_type": "code",
      "source": [
        "mean_squared_error(y, y_pred)"
      ],
      "metadata": {
        "colab": {
          "base_uri": "https://localhost:8080/"
        },
        "id": "4P1aoskPYZfC",
        "outputId": "f4656e3a-6627-4dfd-a020-99f93e0e074f"
      },
      "execution_count": 115,
      "outputs": [
        {
          "output_type": "execute_result",
          "data": {
            "text/plain": [
              "0.22623863901961405"
            ]
          },
          "metadata": {},
          "execution_count": 115
        }
      ]
    },
    {
      "cell_type": "markdown",
      "source": [
        "#Error using scikit-learn SGD Regressor"
      ],
      "metadata": {
        "id": "rSUACQ6JaAsN"
      }
    },
    {
      "cell_type": "code",
      "source": [
        "from sklearn.linear_model import SGDRegressor\n",
        "model=SGDRegressor(alpha=0,learning_rate=\"constant\",eta0=0.001)\n",
        "model.fit(x,y)"
      ],
      "metadata": {
        "colab": {
          "base_uri": "https://localhost:8080/"
        },
        "id": "uBS_yASFY5kv",
        "outputId": "c71927d5-1eb1-4da6-8fb4-9fe1300aea92"
      },
      "execution_count": 116,
      "outputs": [
        {
          "output_type": "execute_result",
          "data": {
            "text/plain": [
              "SGDRegressor(alpha=0, eta0=0.001, learning_rate='constant')"
            ]
          },
          "metadata": {},
          "execution_count": 116
        }
      ]
    },
    {
      "cell_type": "code",
      "source": [
        "y_pred_sgd=predict_y(model.intercept_, model.coef_, x )\n"
      ],
      "metadata": {
        "id": "m97_UjfHZSdY"
      },
      "execution_count": 117,
      "outputs": []
    },
    {
      "cell_type": "code",
      "source": [
        "mean_squared_error(y, y_pred_sgd)"
      ],
      "metadata": {
        "colab": {
          "base_uri": "https://localhost:8080/"
        },
        "id": "uqF4QVn3Zdof",
        "outputId": "b84ae847-5ac0-4869-e327-d24c20a000c2"
      },
      "execution_count": 118,
      "outputs": [
        {
          "output_type": "execute_result",
          "data": {
            "text/plain": [
              "0.01730863340574867"
            ]
          },
          "metadata": {},
          "execution_count": 118
        }
      ]
    },
    {
      "cell_type": "code",
      "source": [
        ""
      ],
      "metadata": {
        "id": "VcK2kLp3ZhoW"
      },
      "execution_count": null,
      "outputs": []
    }
  ]
}